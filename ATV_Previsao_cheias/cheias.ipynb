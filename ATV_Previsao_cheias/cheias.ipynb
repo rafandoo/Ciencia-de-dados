{
 "cells": [
  {
   "cell_type": "markdown",
   "metadata": {},
   "source": []
  },
  {
   "cell_type": "code",
   "execution_count": 92,
   "metadata": {},
   "outputs": [],
   "source": [
    "import pandas as pd\n",
    "\n",
    "# Arquivos de entrada referente a chuva\n",
    "taioChuva = pd.read_fwf('txt\\83050000TAIÓ_2962005-1442014-chuva.txt', header=None)\n",
    "ituporangaChuva = pd.read_fwf('txt\\83250000ITUPORANGA_3172005-1442014-chuva.txt', header=None)\n",
    "riodosulChuva = pd.read_fwf('txt\\83300200RIODOSUL-NOVO_2862005-1442014-Chuva.txt', header=None)\n",
    "\n",
    "#TRASNFORMAÇÃO CHUVA - Inserindo header com a data e a chuva, e removido o indice 0 do dataframe (que continha o cabeçalho do arquivo original) \n",
    "taioChuva.columns = ['Data', 'Chuva Taio']\n",
    "taioChuva = taioChuva.drop(taioChuva.index[0])\n",
    "\n",
    "ituporangaChuva.columns = ['Data', 'Chuva Ituporanga']\n",
    "ituporangaChuva = ituporangaChuva.drop(ituporangaChuva.index[0])\n",
    "\n",
    "riodosulChuva.columns = ['Data', 'Chuva Rio do Sul']\n",
    "riodosulChuva = riodosulChuva.drop(riodosulChuva.index[0])\n"
   ]
  },
  {
   "cell_type": "code",
   "execution_count": 93,
   "metadata": {},
   "outputs": [],
   "source": [
    "# Arquivos de entrada referente ao nível\n",
    "taioNivel = pd.read_fwf('txt\\83050000TAIÓ_2962005-1442014-nível.txt', header=None)\n",
    "ituporangaNivel = pd.read_fwf('txt\\83250000ITUPORANGA_2962005-1032014-nível.txt', header=None)\n",
    "riodosulNivel = pd.read_fwf('txt\\83300200RIODOSUL-NOVO_2982005-1422014 -nível.txt', header=None)\n",
    "\n",
    "#TRASNFORMAÇÃO NIVEL - Inserindo header com a data e a chuva, e removido o indice 0 do dataframe (que continha o cabeçalho do arquivo original) \n",
    "taioNivel.columns = ['Data', 'Nivel Taio']\n",
    "taioNivel = taioNivel.drop(taioNivel.index[0])\n",
    "\n",
    "ituporangaNivel.columns = ['Data', 'Nivel Ituporanga']\n",
    "ituporangaNivel = ituporangaNivel.drop(ituporangaNivel.index[0])\n",
    "\n",
    "riodosulNivel.columns = ['Data', 'Nivel Rio do Sul']\n",
    "riodosulNivel = riodosulNivel.drop(riodosulNivel.index[0])\n"
   ]
  },
  {
   "cell_type": "code",
   "execution_count": 94,
   "metadata": {},
   "outputs": [],
   "source": [
    "#Juntando os dataframes afins de chuvas\n",
    "chuva1 = pd.merge(taioChuva, ituporangaChuva, how='inner', on = 'Data')\n",
    "chuva = pd.merge(chuva1, riodosulChuva, how='inner', on = 'Data')\n",
    "\n",
    "#TRANSFORMAÇÃO CHUVA - Removendo as linhas que são nulas\n",
    "chuva.dropna(inplace=True)\n"
   ]
  },
  {
   "cell_type": "code",
   "execution_count": 95,
   "metadata": {},
   "outputs": [],
   "source": [
    "#Juntando os dataframes afins de niveis\n",
    "nivel1 = pd.merge(taioNivel, ituporangaNivel, how='inner', on = 'Data')\n",
    "\n",
    "nivel = pd.merge(nivel1, riodosulNivel, how='inner', on = 'Data')\n",
    "\n",
    "#TRANSFORMAÇÃO NIVEL - Removendo as linhas que são nulas\n",
    "nivel.dropna(inplace=True)\n"
   ]
  },
  {
   "cell_type": "code",
   "execution_count": 96,
   "metadata": {},
   "outputs": [
    {
     "name": "stdout",
     "output_type": "stream",
     "text": [
      "<class 'pandas.core.frame.DataFrame'>\n",
      "Int64Index: 66957 entries, 0 to 66956\n",
      "Data columns (total 7 columns):\n",
      " #   Column            Non-Null Count  Dtype \n",
      "---  ------            --------------  ----- \n",
      " 0   Data              66957 non-null  object\n",
      " 1   Chuva Taio        66957 non-null  object\n",
      " 2   Chuva Ituporanga  66957 non-null  object\n",
      " 3   Chuva Rio do Sul  66957 non-null  object\n",
      " 4   Nivel Taio        66957 non-null  object\n",
      " 5   Nivel Ituporanga  66957 non-null  object\n",
      " 6   Nivel Rio do Sul  66957 non-null  object\n",
      "dtypes: object(7)\n",
      "memory usage: 4.1+ MB\n"
     ]
    }
   ],
   "source": [
    "#Juntando os dataframes de chuvas e niveis\n",
    "cheias = pd.merge(chuva, nivel, how = 'inner', on = 'Data')\n",
    "cheias.to_csv('cheias.csv', index=False)\n",
    "cheias.info()"
   ]
  },
  {
   "cell_type": "markdown",
   "metadata": {},
   "source": []
  },
  {
   "cell_type": "code",
   "execution_count": null,
   "metadata": {},
   "outputs": [],
   "source": []
  }
 ],
 "metadata": {
  "kernelspec": {
   "display_name": "Python 3.10.2 64-bit",
   "language": "python",
   "name": "python3"
  },
  "language_info": {
   "codemirror_mode": {
    "name": "ipython",
    "version": 3
   },
   "file_extension": ".py",
   "mimetype": "text/x-python",
   "name": "python",
   "nbconvert_exporter": "python",
   "pygments_lexer": "ipython3",
   "version": "3.10.2"
  },
  "orig_nbformat": 4,
  "vscode": {
   "interpreter": {
    "hash": "f9e4dc9f9849216cde722f1d05d16f9d6e39392894aab521b220488c9419cf33"
   }
  }
 },
 "nbformat": 4,
 "nbformat_minor": 2
}
