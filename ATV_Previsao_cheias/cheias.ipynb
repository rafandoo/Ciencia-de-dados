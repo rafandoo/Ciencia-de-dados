{
 "cells": [
  {
   "cell_type": "markdown",
   "metadata": {},
   "source": [
    "## Manipulação dos arquivos"
   ]
  },
  {
   "cell_type": "code",
   "execution_count": 1292,
   "metadata": {},
   "outputs": [],
   "source": [
    "import pandas as pd\n",
    "\n",
    "# Arquivos de entrada referente a chuva\n",
    "taioChuva = pd.read_fwf('txt\\83050000TAIÓ_2962005-1442014-chuva.txt', header=None)\n",
    "ituporangaChuva = pd.read_fwf('txt\\83250000ITUPORANGA_3172005-1442014-chuva.txt', header=None)\n",
    "riodosulChuva = pd.read_fwf('txt\\83300200RIODOSUL-NOVO_2862005-1442014-Chuva.txt', header=None)\n",
    "\n",
    "#TRASNFORMAÇÃO CHUVA - Inserindo header com a data e a chuva, e removido o indice 0 do dataframe (que continha o cabeçalho do arquivo original) \n",
    "taioChuva.columns = ['Data', 'Chuva Taio']\n",
    "taioChuva = taioChuva.drop(taioChuva.index[0])\n",
    "\n",
    "ituporangaChuva.columns = ['Data', 'Chuva Ituporanga']\n",
    "ituporangaChuva = ituporangaChuva.drop(ituporangaChuva.index[0])\n",
    "\n",
    "riodosulChuva.columns = ['Data', 'Chuva Rio do Sul']\n",
    "riodosulChuva = riodosulChuva.drop(riodosulChuva.index[0])\n"
   ]
  },
  {
   "cell_type": "code",
   "execution_count": 1293,
   "metadata": {},
   "outputs": [],
   "source": [
    "# Arquivos de entrada referente ao nível\n",
    "taioNivel = pd.read_fwf('txt\\83050000TAIÓ_2962005-1442014-nível.txt', header=None)\n",
    "ituporangaNivel = pd.read_fwf('txt\\83250000ITUPORANGA_2962005-1032014-nível.txt', header=None)\n",
    "riodosulNivel = pd.read_fwf('txt\\83300200RIODOSUL-NOVO_2982005-1422014 -nível.txt', header=None)\n",
    "\n",
    "#TRASNFORMAÇÃO NIVEL - Inserindo header com a data e a chuva, e removido o indice 0 do dataframe (que continha o cabeçalho do arquivo original) \n",
    "taioNivel.columns = ['Data', 'Nivel Taio']\n",
    "taioNivel = taioNivel.drop(taioNivel.index[0])\n",
    "\n",
    "ituporangaNivel.columns = ['Data', 'Nivel Ituporanga']\n",
    "ituporangaNivel = ituporangaNivel.drop(ituporangaNivel.index[0])\n",
    "\n",
    "riodosulNivel.columns = ['Data', 'Nivel Rio do Sul']\n",
    "riodosulNivel = riodosulNivel.drop(riodosulNivel.index[0])\n"
   ]
  },
  {
   "cell_type": "code",
   "execution_count": 1294,
   "metadata": {},
   "outputs": [],
   "source": [
    "#Juntando os dataframes afins de chuvas\n",
    "chuva1 = pd.merge(taioChuva, ituporangaChuva, how='inner', on = 'Data')\n",
    "chuva = pd.merge(chuva1, riodosulChuva, how='inner', on = 'Data')\n",
    "\n",
    "#TRANSFORMAÇÃO CHUVA - Removendo as linhas que são nulas\n",
    "chuva.dropna(inplace=True)\n"
   ]
  },
  {
   "cell_type": "code",
   "execution_count": 1295,
   "metadata": {},
   "outputs": [],
   "source": [
    "#Juntando os dataframes afins de niveis\n",
    "nivel1 = pd.merge(taioNivel, ituporangaNivel, how='inner', on = 'Data')\n",
    "\n",
    "nivel = pd.merge(nivel1, riodosulNivel, how='inner', on = 'Data')\n",
    "\n",
    "#TRANSFORMAÇÃO NIVEL - Removendo as linhas que são nulas\n",
    "nivel.dropna(inplace=True)\n"
   ]
  },
  {
   "cell_type": "code",
   "execution_count": 1296,
   "metadata": {},
   "outputs": [
    {
     "name": "stdout",
     "output_type": "stream",
     "text": [
      "<class 'pandas.core.frame.DataFrame'>\n",
      "Int64Index: 66957 entries, 0 to 66956\n",
      "Data columns (total 7 columns):\n",
      " #   Column            Non-Null Count  Dtype \n",
      "---  ------            --------------  ----- \n",
      " 0   Data              66957 non-null  object\n",
      " 1   Chuva Taio        66957 non-null  object\n",
      " 2   Chuva Ituporanga  66957 non-null  object\n",
      " 3   Chuva Rio do Sul  66957 non-null  object\n",
      " 4   Nivel Taio        66957 non-null  object\n",
      " 5   Nivel Ituporanga  66957 non-null  object\n",
      " 6   Nivel Rio do Sul  66957 non-null  object\n",
      "dtypes: object(7)\n",
      "memory usage: 4.1+ MB\n"
     ]
    }
   ],
   "source": [
    "#Juntando os dataframes de chuvas e niveis\n",
    "cheias = pd.merge(chuva, nivel, how = 'inner', on = 'Data')\n",
    "cheias.to_csv('cheias.csv', index=False)\n",
    "cheias.info()"
   ]
  },
  {
   "cell_type": "code",
   "execution_count": 1297,
   "metadata": {},
   "outputs": [
    {
     "name": "stdout",
     "output_type": "stream",
     "text": [
      "<class 'pandas.core.frame.DataFrame'>\n",
      "Int64Index: 66957 entries, 0 to 66956\n",
      "Data columns (total 7 columns):\n",
      " #   Column            Non-Null Count  Dtype         \n",
      "---  ------            --------------  -----         \n",
      " 0   Data              66957 non-null  datetime64[ns]\n",
      " 1   Chuva Taio        66957 non-null  float64       \n",
      " 2   Chuva Ituporanga  66957 non-null  float64       \n",
      " 3   Chuva Rio do Sul  66957 non-null  float64       \n",
      " 4   Nivel Taio        66957 non-null  int32         \n",
      " 5   Nivel Ituporanga  66957 non-null  int32         \n",
      " 6   Nivel Rio do Sul  66957 non-null  int32         \n",
      "dtypes: datetime64[ns](1), float64(3), int32(3)\n",
      "memory usage: 3.3 MB\n"
     ]
    }
   ],
   "source": [
    "#Conversão dos tipos de dados de objetos para numericos\n",
    "\n",
    "cheias['Chuva Taio'] = cheias['Chuva Taio'].astype(float)\n",
    "cheias['Chuva Ituporanga'] = cheias['Chuva Ituporanga'].astype(float)\n",
    "cheias['Chuva Rio do Sul'] = cheias['Chuva Rio do Sul'].astype(float)\n",
    "\n",
    "cheias['Nivel Taio'] = cheias['Nivel Taio'].astype(int)\n",
    "cheias['Nivel Ituporanga'] = cheias['Nivel Ituporanga'].astype(int)\n",
    "cheias['Nivel Rio do Sul'] = cheias['Nivel Rio do Sul'].astype(int)\n",
    "\n",
    "\n",
    "#Conversao de data para data time\n",
    "cheias['Data'] = pd.to_datetime(cheias['Data'])\n",
    "\n",
    "cheias.info()"
   ]
  },
  {
   "cell_type": "markdown",
   "metadata": {},
   "source": [
    "## Analise dos dados"
   ]
  },
  {
   "cell_type": "markdown",
   "metadata": {},
   "source": [
    "\n",
    "Em um primeiro momento vamos gerar uma analise em cima dos dados filtrados acima, para entender melhor os mesmos. O objetivo é motar um modelo para prever o nivel do rio de Rio do Sul."
   ]
  },
  {
   "cell_type": "code",
   "execution_count": 1298,
   "metadata": {},
   "outputs": [],
   "source": [
    "x = cheias[['Chuva Taio', 'Chuva Ituporanga', 'Chuva Rio do Sul', 'Nivel Taio', 'Nivel Ituporanga']]\n",
    "y = cheias[['Nivel Rio do Sul']] "
   ]
  },
  {
   "cell_type": "code",
   "execution_count": 1299,
   "metadata": {},
   "outputs": [],
   "source": [
    "# IMPORTAÇÃO DOS MODULOS\n",
    "from sklearn.model_selection import train_test_split\n",
    "from sklearn.linear_model import LinearRegression\n",
    "import matplotlib.pyplot as plt\n",
    "from sklearn.metrics import r2_score \n",
    "import numpy as np\n"
   ]
  },
  {
   "cell_type": "code",
   "execution_count": 1300,
   "metadata": {},
   "outputs": [],
   "source": [
    "# Vamos gerar os modelos de treiamento\n",
    "x_train, x_test, y_train, y_test = train_test_split(x, y, train_size = 0.8, test_size = 0.2)\n"
   ]
  },
  {
   "cell_type": "code",
   "execution_count": 1301,
   "metadata": {},
   "outputs": [],
   "source": [
    "# Vamos gerar o modelo de regressão multipla\n",
    "regressaoMultipla = LinearRegression()\n",
    "regressaoMultipla.fit(x_train, y_train)\n",
    "\n",
    "y_previsto = regressaoMultipla.predict(x_test)"
   ]
  },
  {
   "cell_type": "code",
   "execution_count": 1302,
   "metadata": {},
   "outputs": [
    {
     "data": {
      "image/png": "[encoded data removed]",
      "text/plain": [
       "<Figure size 432x288 with 1 Axes>"
      ]
     },
     "metadata": {
      "needs_background": "light"
     },
     "output_type": "display_data"
    }
   ],
   "source": [
    "# Para se ter uma melhor visualização, vamos gerar um gráfico de nivel real vs previsto\n",
    "\n",
    "plt.scatter(y_test, y_previsto, c = 'b',  s = 50, alpha = 0.5)\n",
    "\n",
    "plt.xlabel(\"Nível: $Y_i$\")\n",
    "plt.ylabel(\"Previsão nível Rio do Sul: $\\hat{Y}_i$\")\n",
    "plt.title(\"Nível Real vs Nível Previsto\")\n",
    "\n",
    "plt.show()"
   ]
  },
  {
   "cell_type": "markdown",
   "metadata": {},
   "source": [
    "Ao analizar o grafico podemos perceber um certo agrupamento distante, e uma possivel correlação positiva "
   ]
  },
  {
   "cell_type": "code",
   "execution_count": 1303,
   "metadata": {},
   "outputs": [
    {
     "name": "stderr",
     "output_type": "stream",
     "text": [
      "C:\\Users\\rafin\\AppData\\Local\\Temp\\ipykernel_24508\\1665452475.py:3: FutureWarning: this method is deprecated in favour of `Styler.format(precision=..)`\n",
      "  corr.style.background_gradient(cmap='coolwarm').set_precision(2)\n"
     ]
    },
    {
     "data": {
      "text/html": [
       "<style type=\"text/css\">\n",
       "#T_3c2a2_row0_col0, #T_3c2a2_row1_col1, #T_3c2a2_row2_col2, #T_3c2a2_row3_col3, #T_3c2a2_row4_col4, #T_3c2a2_row5_col5 {\n",
       "  background-color: #b40426;\n",
       "  color: #f1f1f1;\n",
       "}\n",
       "#T_3c2a2_row0_col1 {\n",
       "  background-color: #7093f3;\n",
       "  color: #f1f1f1;\n",
       "}\n",
       "#T_3c2a2_row0_col2 {\n",
       "  background-color: #6c8ff1;\n",
       "  color: #f1f1f1;\n",
       "}\n",
       "#T_3c2a2_row0_col3, #T_3c2a2_row0_col4, #T_3c2a2_row0_col5, #T_3c2a2_row3_col1, #T_3c2a2_row3_col2, #T_3c2a2_row5_col0, #T_3c2a2_row5_col2 {\n",
       "  background-color: #3b4cc0;\n",
       "  color: #f1f1f1;\n",
       "}\n",
       "#T_3c2a2_row1_col0, #T_3c2a2_row2_col0 {\n",
       "  background-color: #799cf8;\n",
       "  color: #f1f1f1;\n",
       "}\n",
       "#T_3c2a2_row1_col2 {\n",
       "  background-color: #9ebeff;\n",
       "  color: #000000;\n",
       "}\n",
       "#T_3c2a2_row1_col3 {\n",
       "  background-color: #4055c8;\n",
       "  color: #f1f1f1;\n",
       "}\n",
       "#T_3c2a2_row1_col4 {\n",
       "  background-color: #455cce;\n",
       "  color: #f1f1f1;\n",
       "}\n",
       "#T_3c2a2_row1_col5, #T_3c2a2_row2_col3 {\n",
       "  background-color: #445acc;\n",
       "  color: #f1f1f1;\n",
       "}\n",
       "#T_3c2a2_row2_col1 {\n",
       "  background-color: #a2c1ff;\n",
       "  color: #000000;\n",
       "}\n",
       "#T_3c2a2_row2_col4 {\n",
       "  background-color: #465ecf;\n",
       "  color: #f1f1f1;\n",
       "}\n",
       "#T_3c2a2_row2_col5 {\n",
       "  background-color: #485fd1;\n",
       "  color: #f1f1f1;\n",
       "}\n",
       "#T_3c2a2_row3_col0, #T_3c2a2_row5_col1 {\n",
       "  background-color: #3c4ec2;\n",
       "  color: #f1f1f1;\n",
       "}\n",
       "#T_3c2a2_row3_col4, #T_3c2a2_row4_col3 {\n",
       "  background-color: #ec7f63;\n",
       "  color: #f1f1f1;\n",
       "}\n",
       "#T_3c2a2_row3_col5, #T_3c2a2_row5_col3 {\n",
       "  background-color: #d24b40;\n",
       "  color: #f1f1f1;\n",
       "}\n",
       "#T_3c2a2_row4_col0, #T_3c2a2_row4_col2 {\n",
       "  background-color: #3e51c5;\n",
       "  color: #f1f1f1;\n",
       "}\n",
       "#T_3c2a2_row4_col1 {\n",
       "  background-color: #4257c9;\n",
       "  color: #f1f1f1;\n",
       "}\n",
       "#T_3c2a2_row4_col5 {\n",
       "  background-color: #e67259;\n",
       "  color: #f1f1f1;\n",
       "}\n",
       "#T_3c2a2_row5_col4 {\n",
       "  background-color: #e7745b;\n",
       "  color: #f1f1f1;\n",
       "}\n",
       "</style>\n",
       "<table id=\"T_3c2a2\">\n",
       "  <thead>\n",
       "    <tr>\n",
       "      <th class=\"blank level0\" >&nbsp;</th>\n",
       "      <th id=\"T_3c2a2_level0_col0\" class=\"col_heading level0 col0\" >Chuva Taio</th>\n",
       "      <th id=\"T_3c2a2_level0_col1\" class=\"col_heading level0 col1\" >Chuva Ituporanga</th>\n",
       "      <th id=\"T_3c2a2_level0_col2\" class=\"col_heading level0 col2\" >Chuva Rio do Sul</th>\n",
       "      <th id=\"T_3c2a2_level0_col3\" class=\"col_heading level0 col3\" >Nivel Taio</th>\n",
       "      <th id=\"T_3c2a2_level0_col4\" class=\"col_heading level0 col4\" >Nivel Ituporanga</th>\n",
       "      <th id=\"T_3c2a2_level0_col5\" class=\"col_heading level0 col5\" >Nivel Rio do Sul</th>\n",
       "    </tr>\n",
       "  </thead>\n",
       "  <tbody>\n",
       "    <tr>\n",
       "      <th id=\"T_3c2a2_level0_row0\" class=\"row_heading level0 row0\" >Chuva Taio</th>\n",
       "      <td id=\"T_3c2a2_row0_col0\" class=\"data row0 col0\" >1.00</td>\n",
       "      <td id=\"T_3c2a2_row0_col1\" class=\"data row0 col1\" >0.19</td>\n",
       "      <td id=\"T_3c2a2_row0_col2\" class=\"data row0 col2\" >0.19</td>\n",
       "      <td id=\"T_3c2a2_row0_col3\" class=\"data row0 col3\" >0.01</td>\n",
       "      <td id=\"T_3c2a2_row0_col4\" class=\"data row0 col4\" >0.01</td>\n",
       "      <td id=\"T_3c2a2_row0_col5\" class=\"data row0 col5\" >0.00</td>\n",
       "    </tr>\n",
       "    <tr>\n",
       "      <th id=\"T_3c2a2_level0_row1\" class=\"row_heading level0 row1\" >Chuva Ituporanga</th>\n",
       "      <td id=\"T_3c2a2_row1_col0\" class=\"data row1 col0\" >0.19</td>\n",
       "      <td id=\"T_3c2a2_row1_col1\" class=\"data row1 col1\" >1.00</td>\n",
       "      <td id=\"T_3c2a2_row1_col2\" class=\"data row1 col2\" >0.33</td>\n",
       "      <td id=\"T_3c2a2_row1_col3\" class=\"data row1 col3\" >0.03</td>\n",
       "      <td id=\"T_3c2a2_row1_col4\" class=\"data row1 col4\" >0.05</td>\n",
       "      <td id=\"T_3c2a2_row1_col5\" class=\"data row1 col5\" >0.03</td>\n",
       "    </tr>\n",
       "    <tr>\n",
       "      <th id=\"T_3c2a2_level0_row2\" class=\"row_heading level0 row2\" >Chuva Rio do Sul</th>\n",
       "      <td id=\"T_3c2a2_row2_col0\" class=\"data row2 col0\" >0.19</td>\n",
       "      <td id=\"T_3c2a2_row2_col1\" class=\"data row2 col1\" >0.33</td>\n",
       "      <td id=\"T_3c2a2_row2_col2\" class=\"data row2 col2\" >1.00</td>\n",
       "      <td id=\"T_3c2a2_row2_col3\" class=\"data row2 col3\" >0.04</td>\n",
       "      <td id=\"T_3c2a2_row2_col4\" class=\"data row2 col4\" >0.05</td>\n",
       "      <td id=\"T_3c2a2_row2_col5\" class=\"data row2 col5\" >0.04</td>\n",
       "    </tr>\n",
       "    <tr>\n",
       "      <th id=\"T_3c2a2_level0_row3\" class=\"row_heading level0 row3\" >Nivel Taio</th>\n",
       "      <td id=\"T_3c2a2_row3_col0\" class=\"data row3 col0\" >0.01</td>\n",
       "      <td id=\"T_3c2a2_row3_col1\" class=\"data row3 col1\" >0.03</td>\n",
       "      <td id=\"T_3c2a2_row3_col2\" class=\"data row3 col2\" >0.04</td>\n",
       "      <td id=\"T_3c2a2_row3_col3\" class=\"data row3 col3\" >1.00</td>\n",
       "      <td id=\"T_3c2a2_row3_col4\" class=\"data row3 col4\" >0.81</td>\n",
       "      <td id=\"T_3c2a2_row3_col5\" class=\"data row3 col5\" >0.91</td>\n",
       "    </tr>\n",
       "    <tr>\n",
       "      <th id=\"T_3c2a2_level0_row4\" class=\"row_heading level0 row4\" >Nivel Ituporanga</th>\n",
       "      <td id=\"T_3c2a2_row4_col0\" class=\"data row4 col0\" >0.01</td>\n",
       "      <td id=\"T_3c2a2_row4_col1\" class=\"data row4 col1\" >0.05</td>\n",
       "      <td id=\"T_3c2a2_row4_col2\" class=\"data row4 col2\" >0.05</td>\n",
       "      <td id=\"T_3c2a2_row4_col3\" class=\"data row4 col3\" >0.81</td>\n",
       "      <td id=\"T_3c2a2_row4_col4\" class=\"data row4 col4\" >1.00</td>\n",
       "      <td id=\"T_3c2a2_row4_col5\" class=\"data row4 col5\" >0.84</td>\n",
       "    </tr>\n",
       "    <tr>\n",
       "      <th id=\"T_3c2a2_level0_row5\" class=\"row_heading level0 row5\" >Nivel Rio do Sul</th>\n",
       "      <td id=\"T_3c2a2_row5_col0\" class=\"data row5 col0\" >0.00</td>\n",
       "      <td id=\"T_3c2a2_row5_col1\" class=\"data row5 col1\" >0.03</td>\n",
       "      <td id=\"T_3c2a2_row5_col2\" class=\"data row5 col2\" >0.04</td>\n",
       "      <td id=\"T_3c2a2_row5_col3\" class=\"data row5 col3\" >0.91</td>\n",
       "      <td id=\"T_3c2a2_row5_col4\" class=\"data row5 col4\" >0.84</td>\n",
       "      <td id=\"T_3c2a2_row5_col5\" class=\"data row5 col5\" >1.00</td>\n",
       "    </tr>\n",
       "  </tbody>\n",
       "</table>\n"
      ],
      "text/plain": [
       "<pandas.io.formats.style.Styler at 0x2e9bf777a30>"
      ]
     },
     "execution_count": 1303,
     "metadata": {},
     "output_type": "execute_result"
    }
   ],
   "source": [
    "# Para melhor analizar a correlação entre as variáveis ​​no dataframe, vamos plotar uma tabela de correlações.\n",
    "corr = cheias.corr()\n",
    "corr.style.background_gradient(cmap='coolwarm').set_precision(2)\n"
   ]
  },
  {
   "cell_type": "markdown",
   "metadata": {},
   "source": [
    "Como podemos ver na tabela o nível de Rio do Sul tem uma grande correlação com os níveis do rio de Taio e Ituporanga."
   ]
  },
  {
   "cell_type": "code",
   "execution_count": 1304,
   "metadata": {},
   "outputs": [],
   "source": [
    "# Logo, vamos treinar nosso modelo tendo em vista a correlação entre as variáveis\n",
    "x = cheias[[\"Nivel Taio\", \"Nivel Ituporanga\"]]\n",
    "y = cheias[[\"Nivel Rio do Sul\"]]\n",
    "\n",
    "x_train, x_test, y_train, y_test = train_test_split(x, y, train_size = 0.8, test_size = 0.2)\n"
   ]
  },
  {
   "cell_type": "code",
   "execution_count": 1305,
   "metadata": {},
   "outputs": [],
   "source": [
    "regressaoMultipla = LinearRegression()\n",
    "regressaoMultipla.fit(x_train, y_train)\n",
    "\n",
    "y_previsto = regressaoMultipla.predict(x_test)\n"
   ]
  },
  {
   "cell_type": "code",
   "execution_count": 1306,
   "metadata": {},
   "outputs": [
    {
     "data": {
      "image/png": "[encoded data removed]",
      "text/plain": [
       "<Figure size 432x288 with 1 Axes>"
      ]
     },
     "metadata": {
      "needs_background": "light"
     },
     "output_type": "display_data"
    }
   ],
   "source": [
    "# Vamos gerar um grafico de previsão para verificar as mudanças\n",
    "plt.scatter(y_test, y_previsto, c = 'b',  s = 50, alpha = 0.5)\n",
    "\n",
    "plt.xlabel(\"Nível: $Y_i$\")\n",
    "plt.ylabel(\"Previsão nível Rio do Sul: $\\hat{Y}_i$\")\n",
    "plt.title(\"Nível Real vs Nível Previsto\")\n",
    "\n",
    "plt.show()\n"
   ]
  },
  {
   "cell_type": "markdown",
   "metadata": {},
   "source": [
    "Como podemos ver ainda permanece um certo agrupamento fora da linha, para melhorar isto vamos aplicar mais algumas correções nos dados das cheias"
   ]
  },
  {
   "cell_type": "code",
   "execution_count": 1307,
   "metadata": {},
   "outputs": [],
   "source": [
    "# Por meio destes vamos remover as linhas que não tem nível maior que 90 (em Rio do Sul) e que não tem data maior que 2011-01-01\n",
    "nivelMenor = cheias[(cheias['Nivel Rio do Sul'] < 90)].index\n",
    "cheias.drop(nivelMenor, inplace = True)\n",
    "\n",
    "dataMaior = cheias[(cheias['Data'] < '2011-01-01 00:00:00')].index\n",
    "cheias.drop(dataMaior, inplace = True)\n"
   ]
  },
  {
   "cell_type": "code",
   "execution_count": 1308,
   "metadata": {},
   "outputs": [],
   "source": [
    "# Vamos treinar novamente nosso modelo\n",
    "x = cheias[[\"Nivel Taio\", \"Nivel Ituporanga\"]]\n",
    "y = cheias[[\"Nivel Rio do Sul\"]]\n",
    "\n",
    "x_train, x_test, y_train, y_test = train_test_split(x, y, train_size = 0.8, test_size = 0.2)\n",
    "\n",
    "regressaoMultipla = LinearRegression()\n",
    "regressaoMultipla.fit(x_train, y_train)\n",
    "\n",
    "y_previsto = regressaoMultipla.predict(x_test)"
   ]
  },
  {
   "cell_type": "code",
   "execution_count": 1309,
   "metadata": {},
   "outputs": [
    {
     "data": {
      "image/png": "[encoded data removed]",
      "text/plain": [
       "<Figure size 432x288 with 1 Axes>"
      ]
     },
     "metadata": {
      "needs_background": "light"
     },
     "output_type": "display_data"
    }
   ],
   "source": [
    "# Vamos gerar um grafico de previsão para verificar as mudanças\n",
    "plt.scatter(y_test, y_previsto, c = 'b',  s = 50, alpha = 0.5)\n",
    "\n",
    "plt.xlabel(\"Nível: $Y_i$\")\n",
    "plt.ylabel(\"Previsão nível Rio do Sul: $\\hat{Y}_i$\")\n",
    "plt.title(\"Nível Real vs Nível Previsto\")\n",
    "\n",
    "plt.show()\n"
   ]
  },
  {
   "cell_type": "markdown",
   "metadata": {},
   "source": [
    "Podemos verificar que o modelo ja ficou mais ajustado para a previsão, vamos ver como ficou o R2 e o R2 ajustado"
   ]
  },
  {
   "cell_type": "code",
   "execution_count": 1310,
   "metadata": {},
   "outputs": [
    {
     "name": "stdout",
     "output_type": "stream",
     "text": [
      "0.9396815674682331\n"
     ]
    }
   ],
   "source": [
    "# R2\n",
    "R2 = r2_score(y_test,y_previsto)\n",
    "print(R2)"
   ]
  },
  {
   "cell_type": "code",
   "execution_count": 1311,
   "metadata": {},
   "outputs": [
    {
     "name": "stdout",
     "output_type": "stream",
     "text": [
      "0.9396724922508206\n"
     ]
    }
   ],
   "source": [
    "# R2 ajustado\n",
    "adj_r2 = (1 - ((1 - r2_score(y_test, y_previsto)) * (len(y_test) - 1)) / (len(y_test) - x_train.shape[1] - 1))\n",
    "print(adj_r2)"
   ]
  },
  {
   "cell_type": "markdown",
   "metadata": {},
   "source": [
    "Como forma de mostrar a acuracia do nosso modelo, vamos gerar o erro percentual absoluto medio ou MAPE"
   ]
  },
  {
   "cell_type": "code",
   "execution_count": 1313,
   "metadata": {},
   "outputs": [
    {
     "name": "stdout",
     "output_type": "stream",
     "text": [
      "Valor do MAPE 8.66%\n"
     ]
    },
    {
     "name": "stderr",
     "output_type": "stream",
     "text": [
      "c:\\Users\\rafin\\AppData\\Local\\Programs\\Python\\Python310\\lib\\site-packages\\numpy\\core\\fromnumeric.py:3472: FutureWarning: In a future version, DataFrame.mean(axis=None) will return a scalar mean over the entire DataFrame. To retain the old behavior, use 'frame.mean(axis=0)' or just 'frame.mean()'\n",
      "  return mean(axis=axis, dtype=dtype, out=out, **kwargs)\n"
     ]
    }
   ],
   "source": [
    "mape = np.mean(np.abs((y_test - y_previsto) / y_test)) * 100\n",
    "\n",
    "print(\"Valor do MAPE %.2f\" %mape + \"%\")"
   ]
  },
  {
   "cell_type": "markdown",
   "metadata": {},
   "source": [
    "Logo, o modelo desenvolvido consegue em média, fazer previsões que erram em 8.66% do valor real."
   ]
  }
 ],
 "metadata": {
  "kernelspec": {
   "display_name": "Python 3.10.2 64-bit",
   "language": "python",
   "name": "python3"
  },
  "language_info": {
   "codemirror_mode": {
    "name": "ipython",
    "version": 3
   },
   "file_extension": ".py",
   "mimetype": "text/x-python",
   "name": "python",
   "nbconvert_exporter": "python",
   "pygments_lexer": "ipython3",
   "version": "3.10.2"
  },
  "orig_nbformat": 4,
  "vscode": {
   "interpreter": {
    "hash": "f9e4dc9f9849216cde722f1d05d16f9d6e39392894aab521b220488c9419cf33"
   }
  }
 },
 "nbformat": 4,
 "nbformat_minor": 2
}
