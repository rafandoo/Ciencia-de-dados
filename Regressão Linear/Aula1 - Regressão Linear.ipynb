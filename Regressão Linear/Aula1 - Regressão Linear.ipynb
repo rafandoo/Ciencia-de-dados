{
 "cells": [
  {
   "cell_type": "markdown",
   "id": "462c355c",
   "metadata": {},
   "source": [
    "# scikit-learn"
   ]
  },
  {
   "cell_type": "code",
   "execution_count": null,
   "id": "01f68173",
   "metadata": {},
   "outputs": [],
   "source": [
    "from IPython.display import Image\n",
    "Image('ml_map.png')"
   ]
  },
  {
   "cell_type": "markdown",
   "id": "4d8a1ed6",
   "metadata": {},
   "source": [
    "## Regressão Linear Simples"
   ]
  },
  {
   "cell_type": "code",
   "execution_count": null,
   "id": "15028d24",
   "metadata": {},
   "outputs": [],
   "source": [
    "from sklearn.linear_model import LinearRegression\n",
    "import matplotlib.pyplot as plt\n",
    "import numpy as np\n",
    "\n",
    "temperaturas = np.array(range(0, 40, 2))\n",
    "temperaturas = temperaturas.reshape(-1, 1)\n",
    "vendas = [65, 58, 46, 45, 44, 42, 40, 40, 36, 38, 38, 28, 30, 22, 27, 25, 25, 20, 15, 5]\n",
    "\n",
    "plt.plot(temperaturas, vendas, 'o')\n",
    "plt.show()"
   ]
  },
  {
   "cell_type": "code",
   "execution_count": null,
   "id": "42802ac5",
   "metadata": {},
   "outputs": [],
   "source": [
    "regressaoLinear = LinearRegression()"
   ]
  },
  {
   "cell_type": "code",
   "execution_count": null,
   "id": "304fade5",
   "metadata": {},
   "outputs": [],
   "source": [
    "# Treinando o modelo\n",
    "regressaoLinear.fit(temperaturas,vendas)"
   ]
  },
  {
   "cell_type": "code",
   "execution_count": null,
   "id": "a10996c2",
   "metadata": {},
   "outputs": [],
   "source": [
    "previsao_vendas = regressaoLinear.predict(temperaturas)\n",
    "plt.plot(temperaturas, vendas, 'o')\n",
    "plt.plot(temperaturas,previsao_vendas)\n",
    "plt.show()"
   ]
  },
  {
   "cell_type": "code",
   "execution_count": null,
   "id": "6c658042",
   "metadata": {},
   "outputs": [],
   "source": [
    "#Prevendo o número de casacos vendidos\n",
    "print(\"%.2f\" %regressaoLinear.predict([[43]]))"
   ]
  },
  {
   "cell_type": "code",
   "execution_count": null,
   "id": "94f3e03d",
   "metadata": {},
   "outputs": [],
   "source": [
    "regressaoLinear.coef_"
   ]
  },
  {
   "cell_type": "code",
   "execution_count": null,
   "id": "23d393d7",
   "metadata": {},
   "outputs": [],
   "source": [
    "regressaoLinear.intercept_"
   ]
  },
  {
   "cell_type": "markdown",
   "id": "359a7293",
   "metadata": {},
   "source": [
    "### Coficiente de determinação (R²)"
   ]
  },
  {
   "cell_type": "code",
   "execution_count": null,
   "id": "d9c97bcc",
   "metadata": {},
   "outputs": [],
   "source": [
    "Image('r2.png')"
   ]
  },
  {
   "cell_type": "markdown",
   "id": "41392713",
   "metadata": {},
   "source": [
    "#### ŷ representa o valor predito, y_barra representa o valor médio das amostras e yi representa o valor real."
   ]
  },
  {
   "cell_type": "code",
   "execution_count": null,
   "id": "0faf01b5",
   "metadata": {},
   "outputs": [],
   "source": [
    "Image('r2_gráficos.png')"
   ]
  },
  {
   "cell_type": "markdown",
   "id": "96809290",
   "metadata": {},
   "source": [
    "#### Na imagem acima, podemos ver que se o modelo (reta) não se distancia muito dos dados, temos um valor de R-Quadrado alto (gráfico 1), em contraste com o gráfico 2."
   ]
  },
  {
   "cell_type": "code",
   "execution_count": null,
   "id": "3f3a4efb",
   "metadata": {},
   "outputs": [],
   "source": [
    "# em metrics, temos quase todas as metricas geralmete utilizadas\n",
    "from sklearn.metrics import r2_score \n",
    "\n",
    "R2 = r2_score(vendas,previsao_vendas)\n",
    "print(R2)\n"
   ]
  },
  {
   "cell_type": "markdown",
   "id": "0e1762a1",
   "metadata": {},
   "source": [
    "## Regressão Linear Múltipla"
   ]
  },
  {
   "cell_type": "code",
   "execution_count": 4,
   "id": "a3f05c42",
   "metadata": {},
   "outputs": [],
   "source": [
    "import pandas as pd"
   ]
  },
  {
   "cell_type": "code",
   "execution_count": 6,
   "id": "0871bae1",
   "metadata": {},
   "outputs": [
    {
     "data": {
      "text/html": [
       "<div>\n",
       "<style scoped>\n",
       "    .dataframe tbody tr th:only-of-type {\n",
       "        vertical-align: middle;\n",
       "    }\n",
       "\n",
       "    .dataframe tbody tr th {\n",
       "        vertical-align: top;\n",
       "    }\n",
       "\n",
       "    .dataframe thead th {\n",
       "        text-align: right;\n",
       "    }\n",
       "</style>\n",
       "<table border=\"1\" class=\"dataframe\">\n",
       "  <thead>\n",
       "    <tr style=\"text-align: right;\">\n",
       "      <th></th>\n",
       "      <th>Player</th>\n",
       "      <th>Year</th>\n",
       "      <th>FirstServe</th>\n",
       "      <th>FirstServePointsWon</th>\n",
       "      <th>FirstServeReturnPointsWon</th>\n",
       "      <th>SecondServePointsWon</th>\n",
       "      <th>SecondServeReturnPointsWon</th>\n",
       "      <th>Aces</th>\n",
       "      <th>BreakPointsConverted</th>\n",
       "      <th>BreakPointsFaced</th>\n",
       "      <th>...</th>\n",
       "      <th>ReturnGamesWon</th>\n",
       "      <th>ReturnPointsWon</th>\n",
       "      <th>ServiceGamesPlayed</th>\n",
       "      <th>ServiceGamesWon</th>\n",
       "      <th>TotalPointsWon</th>\n",
       "      <th>TotalServicePointsWon</th>\n",
       "      <th>Wins</th>\n",
       "      <th>Losses</th>\n",
       "      <th>Winnings</th>\n",
       "      <th>Ranking</th>\n",
       "    </tr>\n",
       "  </thead>\n",
       "  <tbody>\n",
       "    <tr>\n",
       "      <th>0</th>\n",
       "      <td>Pedro Sousa</td>\n",
       "      <td>2016</td>\n",
       "      <td>0.88</td>\n",
       "      <td>0.50</td>\n",
       "      <td>0.38</td>\n",
       "      <td>0.50</td>\n",
       "      <td>0.39</td>\n",
       "      <td>0</td>\n",
       "      <td>0.14</td>\n",
       "      <td>7</td>\n",
       "      <td>...</td>\n",
       "      <td>0.11</td>\n",
       "      <td>0.38</td>\n",
       "      <td>8</td>\n",
       "      <td>0.50</td>\n",
       "      <td>0.43</td>\n",
       "      <td>0.50</td>\n",
       "      <td>1</td>\n",
       "      <td>2</td>\n",
       "      <td>39820</td>\n",
       "      <td>119</td>\n",
       "    </tr>\n",
       "    <tr>\n",
       "      <th>1</th>\n",
       "      <td>Roman Safiullin</td>\n",
       "      <td>2017</td>\n",
       "      <td>0.84</td>\n",
       "      <td>0.62</td>\n",
       "      <td>0.26</td>\n",
       "      <td>0.33</td>\n",
       "      <td>0.07</td>\n",
       "      <td>7</td>\n",
       "      <td>0.00</td>\n",
       "      <td>7</td>\n",
       "      <td>...</td>\n",
       "      <td>0.00</td>\n",
       "      <td>0.20</td>\n",
       "      <td>9</td>\n",
       "      <td>0.67</td>\n",
       "      <td>0.41</td>\n",
       "      <td>0.57</td>\n",
       "      <td>0</td>\n",
       "      <td>1</td>\n",
       "      <td>17334</td>\n",
       "      <td>381</td>\n",
       "    </tr>\n",
       "    <tr>\n",
       "      <th>2</th>\n",
       "      <td>Pedro Sousa</td>\n",
       "      <td>2017</td>\n",
       "      <td>0.83</td>\n",
       "      <td>0.60</td>\n",
       "      <td>0.28</td>\n",
       "      <td>0.53</td>\n",
       "      <td>0.44</td>\n",
       "      <td>2</td>\n",
       "      <td>0.38</td>\n",
       "      <td>10</td>\n",
       "      <td>...</td>\n",
       "      <td>0.16</td>\n",
       "      <td>0.34</td>\n",
       "      <td>17</td>\n",
       "      <td>0.65</td>\n",
       "      <td>0.45</td>\n",
       "      <td>0.59</td>\n",
       "      <td>4</td>\n",
       "      <td>1</td>\n",
       "      <td>109827</td>\n",
       "      <td>119</td>\n",
       "    </tr>\n",
       "    <tr>\n",
       "      <th>3</th>\n",
       "      <td>Rogerio Dutra Silva</td>\n",
       "      <td>2010</td>\n",
       "      <td>0.83</td>\n",
       "      <td>0.64</td>\n",
       "      <td>0.34</td>\n",
       "      <td>0.59</td>\n",
       "      <td>0.33</td>\n",
       "      <td>2</td>\n",
       "      <td>0.33</td>\n",
       "      <td>5</td>\n",
       "      <td>...</td>\n",
       "      <td>0.14</td>\n",
       "      <td>0.34</td>\n",
       "      <td>15</td>\n",
       "      <td>0.80</td>\n",
       "      <td>0.49</td>\n",
       "      <td>0.63</td>\n",
       "      <td>0</td>\n",
       "      <td>0</td>\n",
       "      <td>9761</td>\n",
       "      <td>125</td>\n",
       "    </tr>\n",
       "    <tr>\n",
       "      <th>4</th>\n",
       "      <td>Daniel Gimeno-Traver</td>\n",
       "      <td>2017</td>\n",
       "      <td>0.81</td>\n",
       "      <td>0.54</td>\n",
       "      <td>0.00</td>\n",
       "      <td>0.33</td>\n",
       "      <td>0.33</td>\n",
       "      <td>1</td>\n",
       "      <td>0.00</td>\n",
       "      <td>2</td>\n",
       "      <td>...</td>\n",
       "      <td>0.00</td>\n",
       "      <td>0.20</td>\n",
       "      <td>2</td>\n",
       "      <td>0.50</td>\n",
       "      <td>0.35</td>\n",
       "      <td>0.50</td>\n",
       "      <td>0</td>\n",
       "      <td>1</td>\n",
       "      <td>32879</td>\n",
       "      <td>272</td>\n",
       "    </tr>\n",
       "  </tbody>\n",
       "</table>\n",
       "<p>5 rows × 24 columns</p>\n",
       "</div>"
      ],
      "text/plain": [
       "                 Player  Year  FirstServe  FirstServePointsWon  \\\n",
       "0           Pedro Sousa  2016        0.88                 0.50   \n",
       "1       Roman Safiullin  2017        0.84                 0.62   \n",
       "2           Pedro Sousa  2017        0.83                 0.60   \n",
       "3   Rogerio Dutra Silva  2010        0.83                 0.64   \n",
       "4  Daniel Gimeno-Traver  2017        0.81                 0.54   \n",
       "\n",
       "   FirstServeReturnPointsWon  SecondServePointsWon  \\\n",
       "0                       0.38                  0.50   \n",
       "1                       0.26                  0.33   \n",
       "2                       0.28                  0.53   \n",
       "3                       0.34                  0.59   \n",
       "4                       0.00                  0.33   \n",
       "\n",
       "   SecondServeReturnPointsWon  Aces  BreakPointsConverted  BreakPointsFaced  \\\n",
       "0                        0.39     0                  0.14                 7   \n",
       "1                        0.07     7                  0.00                 7   \n",
       "2                        0.44     2                  0.38                10   \n",
       "3                        0.33     2                  0.33                 5   \n",
       "4                        0.33     1                  0.00                 2   \n",
       "\n",
       "   ...  ReturnGamesWon  ReturnPointsWon  ServiceGamesPlayed  ServiceGamesWon  \\\n",
       "0  ...            0.11             0.38                   8             0.50   \n",
       "1  ...            0.00             0.20                   9             0.67   \n",
       "2  ...            0.16             0.34                  17             0.65   \n",
       "3  ...            0.14             0.34                  15             0.80   \n",
       "4  ...            0.00             0.20                   2             0.50   \n",
       "\n",
       "   TotalPointsWon  TotalServicePointsWon  Wins  Losses  Winnings  Ranking  \n",
       "0            0.43                   0.50     1       2     39820      119  \n",
       "1            0.41                   0.57     0       1     17334      381  \n",
       "2            0.45                   0.59     4       1    109827      119  \n",
       "3            0.49                   0.63     0       0      9761      125  \n",
       "4            0.35                   0.50     0       1     32879      272  \n",
       "\n",
       "[5 rows x 24 columns]"
      ]
     },
     "execution_count": 6,
     "metadata": {},
     "output_type": "execute_result"
    }
   ],
   "source": [
    "tennis = pd.read_csv('tennis_stats.csv')\n",
    "tennis.head()"
   ]
  },
  {
   "cell_type": "code",
   "execution_count": 7,
   "id": "5ad8ff50",
   "metadata": {},
   "outputs": [
    {
     "name": "stdout",
     "output_type": "stream",
     "text": [
      "<class 'pandas.core.frame.DataFrame'>\n",
      "RangeIndex: 1721 entries, 0 to 1720\n",
      "Data columns (total 24 columns):\n",
      " #   Column                      Non-Null Count  Dtype  \n",
      "---  ------                      --------------  -----  \n",
      " 0   Player                      1721 non-null   object \n",
      " 1   Year                        1721 non-null   int64  \n",
      " 2   FirstServe                  1721 non-null   float64\n",
      " 3   FirstServePointsWon         1721 non-null   float64\n",
      " 4   FirstServeReturnPointsWon   1721 non-null   float64\n",
      " 5   SecondServePointsWon        1721 non-null   float64\n",
      " 6   SecondServeReturnPointsWon  1721 non-null   float64\n",
      " 7   Aces                        1721 non-null   int64  \n",
      " 8   BreakPointsConverted        1721 non-null   float64\n",
      " 9   BreakPointsFaced            1721 non-null   int64  \n",
      " 10  BreakPointsOpportunities    1721 non-null   int64  \n",
      " 11  BreakPointsSaved            1721 non-null   float64\n",
      " 12  DoubleFaults                1721 non-null   int64  \n",
      " 13  ReturnGamesPlayed           1721 non-null   int64  \n",
      " 14  ReturnGamesWon              1721 non-null   float64\n",
      " 15  ReturnPointsWon             1721 non-null   float64\n",
      " 16  ServiceGamesPlayed          1721 non-null   int64  \n",
      " 17  ServiceGamesWon             1721 non-null   float64\n",
      " 18  TotalPointsWon              1721 non-null   float64\n",
      " 19  TotalServicePointsWon       1721 non-null   float64\n",
      " 20  Wins                        1721 non-null   int64  \n",
      " 21  Losses                      1721 non-null   int64  \n",
      " 22  Winnings                    1721 non-null   int64  \n",
      " 23  Ranking                     1721 non-null   int64  \n",
      "dtypes: float64(12), int64(11), object(1)\n",
      "memory usage: 322.8+ KB\n"
     ]
    }
   ],
   "source": [
    "tennis.info()"
   ]
  },
  {
   "cell_type": "code",
   "execution_count": null,
   "id": "f281550e",
   "metadata": {},
   "outputs": [],
   "source": [
    "x = tennis[['bedrooms', 'bathrooms', 'size_sqft', 'min_to_subway', 'floor', 'building_age_yrs', 'no_fee', 'has_roofdeck', 'has_washer_dryer', 'has_doorman', 'has_elevator', 'has_dishwasher', 'has_patio', 'has_gym']]\n",
    "y = tennis[['rent']]"
   ]
  },
  {
   "cell_type": "code",
   "execution_count": null,
   "id": "c9e1f2c5",
   "metadata": {},
   "outputs": [],
   "source": [
    "#Dividindo o conjunto entre treinamento e teste\n",
    "from sklearn.model_selection import train_test_split\n",
    "x_train, x_test, y_train, y_test = train_test_split(x, y, train_size = 0.8, test_size = 0.2)"
   ]
  },
  {
   "cell_type": "code",
   "execution_count": null,
   "id": "3e47ee84",
   "metadata": {},
   "outputs": [],
   "source": [
    "print(x_train.shape)\n",
    "print(x_test.shape)\n",
    "print(y_train.shape)\n",
    "print(y_test.shape)"
   ]
  },
  {
   "cell_type": "code",
   "execution_count": null,
   "id": "3fac8f90",
   "metadata": {},
   "outputs": [],
   "source": [
    "regressaoMultipla = LinearRegression()\n",
    "regressaoMultipla.fit(x_train, y_train)"
   ]
  },
  {
   "cell_type": "code",
   "execution_count": null,
   "id": "35a7c630",
   "metadata": {},
   "outputs": [],
   "source": [
    "dadosImovel = [[1, 1, 620, 16, 1, 98, 1, 0, 1, 0, 0, 1, 1, 0]]\n",
    "\n",
    "previsao_aluguel = regressaoMultipla.predict(dadosImovel)\n",
    "\n",
    "print(\"Previsão preço do Aluguel: $%.2f\" % previsao_aluguel)"
   ]
  },
  {
   "cell_type": "code",
   "execution_count": null,
   "id": "ad8568ff",
   "metadata": {},
   "outputs": [],
   "source": [
    "y_previsto = regressaoMultipla.predict(x_test)"
   ]
  },
  {
   "cell_type": "code",
   "execution_count": null,
   "id": "625d3787",
   "metadata": {},
   "outputs": [],
   "source": [
    "plt.scatter(y_test, y_previsto)\n",
    "\n",
    "plt.xlabel(\"Preços: $Y_i$\")\n",
    "plt.ylabel(\"Previsão Preços: $\\hat{Y}_i$\")\n",
    "plt.title(\"Aluguel Real vs Aluguel Previsto\")\n",
    "\n",
    "plt.show()"
   ]
  },
  {
   "cell_type": "code",
   "execution_count": null,
   "id": "0932ec83",
   "metadata": {},
   "outputs": [],
   "source": [
    "#Coficiente de determinação (R²)\n",
    "R2 = r2_score(y_test,y_previsto)\n",
    "print(R2)"
   ]
  },
  {
   "cell_type": "code",
   "execution_count": null,
   "id": "b98abcf3",
   "metadata": {},
   "outputs": [],
   "source": [
    "moradias.corr()"
   ]
  },
  {
   "cell_type": "code",
   "execution_count": null,
   "id": "38118206",
   "metadata": {},
   "outputs": [],
   "source": [
    "corr = moradias.corr()\n",
    "corr.style.background_gradient(cmap='coolwarm').set_precision(2)"
   ]
  },
  {
   "cell_type": "code",
   "execution_count": null,
   "id": "c968f85b",
   "metadata": {},
   "outputs": [],
   "source": [
    "x = moradias[['bedrooms', 'bathrooms', 'size_sqft']]\n",
    "y = moradias[['rent']]"
   ]
  },
  {
   "cell_type": "code",
   "execution_count": null,
   "id": "9b349e40",
   "metadata": {},
   "outputs": [],
   "source": [
    "x_train, x_test, y_train, y_test = train_test_split(x, y, train_size = 0.8, test_size = 0.2)"
   ]
  },
  {
   "cell_type": "code",
   "execution_count": null,
   "id": "3666ae6a",
   "metadata": {},
   "outputs": [],
   "source": [
    "print(x_train.shape)\n",
    "print(x_test.shape)\n",
    "print(y_train.shape)\n",
    "print(y_test.shape)"
   ]
  },
  {
   "cell_type": "code",
   "execution_count": null,
   "id": "3b21b880",
   "metadata": {},
   "outputs": [],
   "source": [
    "regressaoMultipla = LinearRegression()\n",
    "regressaoMultipla.fit(x_train, y_train)"
   ]
  },
  {
   "cell_type": "code",
   "execution_count": null,
   "id": "822f2515",
   "metadata": {},
   "outputs": [],
   "source": [
    "y_previsto = regressaoMultipla.predict(x_test)"
   ]
  },
  {
   "cell_type": "code",
   "execution_count": null,
   "id": "3ff2efa7",
   "metadata": {},
   "outputs": [],
   "source": [
    "#Coficiente de determinação (R²)\n",
    "R2 = r2_score(y_test,y_previsto)\n",
    "print(R2)"
   ]
  },
  {
   "cell_type": "markdown",
   "id": "4148d2ac",
   "metadata": {},
   "source": [
    "## R² Ajustado"
   ]
  },
  {
   "cell_type": "code",
   "execution_count": null,
   "id": "ac3939fc",
   "metadata": {},
   "outputs": [],
   "source": [
    "Image('r2_ajustado.png')"
   ]
  },
  {
   "cell_type": "markdown",
   "id": "c96b55ca",
   "metadata": {},
   "source": [
    "Em que N representa o número de amostras, enquanto p representa o número de features (variáveis de entrada do modelo). Podemos perceber que, quanto mais features utilizadas sem aumentar significativamente o valor de R², menor será nosso R-Quadrado Ajustado, o que nos garante uma medida menos enviesada e sempre menor do que o R-Quadrado."
   ]
  },
  {
   "cell_type": "code",
   "execution_count": null,
   "id": "329dc5c1",
   "metadata": {},
   "outputs": [],
   "source": [
    "#Coficiente de determinação ajustado (R²-Ajustado)\n",
    "adj_r2 = (1 - ((1 - r2_score(y_test, y_previsto)) * (len(y_test) - 1)) / \n",
    "          (len(y_test) - x_train.shape[1] - 1))\n",
    "print(adj_r2)"
   ]
  },
  {
   "cell_type": "code",
   "execution_count": null,
   "id": "aee26bdc",
   "metadata": {},
   "outputs": [],
   "source": [
    "dadosImovel = [[4, 1, 3000]]\n",
    "\n",
    "preco_aluguel = regressaoMultipla.predict(dadosImovel)\n",
    "\n",
    "print(\"Previsão Aluguel: $%.2f\" % preco_aluguel)"
   ]
  },
  {
   "cell_type": "code",
   "execution_count": null,
   "id": "2fa43bf6",
   "metadata": {
    "scrolled": true
   },
   "outputs": [],
   "source": [
    "regressaoMultipla.coef_"
   ]
  },
  {
   "cell_type": "markdown",
   "id": "f0645363",
   "metadata": {},
   "source": [
    "#### Os coeficientes são úteis para determinar qual variável independente tem mais peso. Por exemplo, um coeficiente de 1369.30 impactará o aluguel mais do que um coeficiente de -415.13, com o primeiro impactando os preços positivamente e o último negativamente."
   ]
  },
  {
   "cell_type": "code",
   "execution_count": null,
   "id": "4e8a38c2",
   "metadata": {},
   "outputs": [],
   "source": [
    "y_previsto = regressaoMultipla.predict(x_test)"
   ]
  },
  {
   "cell_type": "code",
   "execution_count": null,
   "id": "832832d0",
   "metadata": {},
   "outputs": [],
   "source": [
    "plt.scatter(y_test, y_previsto, c = 'b',  s = 50, alpha = 0.5)\n",
    "\n",
    "plt.xlabel(\"Preços: $Y_i$\")\n",
    "plt.ylabel(\"Previsão Preços: $\\hat{Y}_i$\")\n",
    "plt.title(\"Aluguel Real vs Aluguel Previsto\")\n",
    "\n",
    "plt.show()"
   ]
  },
  {
   "cell_type": "code",
   "execution_count": null,
   "id": "72f28986",
   "metadata": {},
   "outputs": [],
   "source": [
    "plt.scatter(y_previsto, y_previsto - y_test, c = 'b',  s = 50, alpha = 0.5)\n",
    "plt.axhline(y=0, color='r', linestyle='-')\n",
    "plt.ylabel(\"Resíduo\")\n",
    "plt.title(\"Gráfico Residual \")\n",
    "plt.show()"
   ]
  },
  {
   "cell_type": "markdown",
   "id": "e94d781d",
   "metadata": {},
   "source": [
    "## Outras métricas de avaliação do modelo"
   ]
  },
  {
   "cell_type": "markdown",
   "id": "0b5a11e5",
   "metadata": {},
   "source": [
    "### Erro Quadrático Médio (MSE)"
   ]
  },
  {
   "cell_type": "code",
   "execution_count": null,
   "id": "e9677b46",
   "metadata": {},
   "outputs": [],
   "source": [
    "Image('mse.png')"
   ]
  },
  {
   "cell_type": "markdown",
   "id": "c474bf09",
   "metadata": {},
   "source": [
    "O MSE consiste na média do erro das previsões ao quadrado. Em outras palavras, pega-se a diferença entre o valor predito pelo modelo e o valor real, eleva-se o resultado ao quadrado, faz-se a mesma coisa com todos os outros pontos, soma-os, e dividi-se pelo número de elementos preditos. Quanto maior esse número, pior o modelo."
   ]
  },
  {
   "cell_type": "markdown",
   "id": "3296466a",
   "metadata": {},
   "source": [
    "#### Vantagens e Desvantagens"
   ]
  },
  {
   "cell_type": "markdown",
   "id": "d94cadb8",
   "metadata": {},
   "source": [
    "Uma vez que essa métrica eleva o erro ao quadrado, predições muito distantes do real aumentam o valor da medida muito facilmente, o que a torna uma métrica de avaliação excelente para problemas nos quais grandes erros não são tolerados, como é o caso de exames médicos e projeções de preços.\n",
    "\n",
    "Entretanto, um ponto negativo do uso dessa métrica é sua falta de interpretabilidade direta, uma vez que, para a predição de valores de unidade u, a unidade do MSE seria u²"
   ]
  },
  {
   "cell_type": "code",
   "execution_count": null,
   "id": "6f4105a7",
   "metadata": {},
   "outputs": [],
   "source": [
    "from sklearn.metrics import mean_squared_error\n",
    "\n",
    "MSE = mean_squared_error(y_test,y_previsto)\n",
    "print(\"%.2f\" %MSE)"
   ]
  },
  {
   "cell_type": "markdown",
   "id": "8940a682",
   "metadata": {},
   "source": [
    "### Raiz do erro quadrático médio (RMSE)"
   ]
  },
  {
   "cell_type": "markdown",
   "id": "103d4825",
   "metadata": {},
   "source": [
    "Tendo em vista essa diferença de unidades, o RMSE entra como uma forma de melhorar a interpretabilidade da métrica, acertando a unidade. Entretanto, essa medida, assim como o MSE, penaliza predições muito distantes da real."
   ]
  },
  {
   "cell_type": "code",
   "execution_count": null,
   "id": "2628e046",
   "metadata": {},
   "outputs": [],
   "source": [
    "Image('rmse.png')"
   ]
  },
  {
   "cell_type": "code",
   "execution_count": null,
   "id": "1b9a07a4",
   "metadata": {},
   "outputs": [],
   "source": [
    "RMSE = mean_squared_error(y_test,y_previsto,squared=False) \n",
    "# argumento 'squared' dado como false nos da o RMSE\n",
    "\n",
    "# ou podemos simplesmente tirar a raiz quadrada do MSE\n",
    "RMSE = MSE**0.5\n",
    "\n",
    "print(\"%.2f\" %RMSE)"
   ]
  },
  {
   "cell_type": "markdown",
   "id": "19f31350",
   "metadata": {},
   "source": [
    "### Erro Percentual Absoluto Médio (MAPE)"
   ]
  },
  {
   "cell_type": "markdown",
   "id": "2470468f",
   "metadata": {},
   "source": [
    "Em contraste com as métricas anteriores, essa medida exprime uma porcentagem, obtida através da divisão da diferença entre predito (ŷ) e real pelo valor real (y).\n",
    "\n",
    "Assim como o MSE e o RMSE, quanto menor o valor, mais preciso seria o modelo de regressão."
   ]
  },
  {
   "cell_type": "code",
   "execution_count": null,
   "id": "cc56cb6b",
   "metadata": {},
   "outputs": [],
   "source": [
    "Image('mape.png')"
   ]
  },
  {
   "cell_type": "markdown",
   "id": "69224bde",
   "metadata": {},
   "source": [
    "#### Por se tratar de uma porcentagem, essa métrica torna-se extremamente intuitiva, tanto para a interpretação do programador, quanto para a comunicação de resultados com pessoas sem conhecimento técnico. Por exemplo, ter um MAPE=12% significa que, em média, nosso modelo faz previsões que erram por 12% do valor real."
   ]
  },
  {
   "cell_type": "code",
   "execution_count": null,
   "id": "87d06920",
   "metadata": {},
   "outputs": [],
   "source": [
    "MAPE = np.mean(np.abs((y_test - y_previsto) / y_test)) * 100\n",
    "\n",
    "print(\"Valor do MAPE %.2f\" %MAPE+\"%\")"
   ]
  },
  {
   "cell_type": "code",
   "execution_count": null,
   "id": "a6ffe04d",
   "metadata": {},
   "outputs": [],
   "source": []
  }
 ],
 "metadata": {
  "kernelspec": {
   "display_name": "Python 3.10.2 64-bit",
   "language": "python",
   "name": "python3"
  },
  "language_info": {
   "codemirror_mode": {
    "name": "ipython",
    "version": 3
   },
   "file_extension": ".py",
   "mimetype": "text/x-python",
   "name": "python",
   "nbconvert_exporter": "python",
   "pygments_lexer": "ipython3",
   "version": "3.10.2"
  },
  "vscode": {
   "interpreter": {
    "hash": "f9e4dc9f9849216cde722f1d05d16f9d6e39392894aab521b220488c9419cf33"
   }
  }
 },
 "nbformat": 4,
 "nbformat_minor": 5
}
