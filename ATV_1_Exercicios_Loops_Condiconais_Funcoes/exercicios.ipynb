{
  "cells": [
    {
      "cell_type": "markdown",
      "metadata": {
        "id": "i277Iyl50oUT"
      },
      "source": [
        "## Exercícios - Loops e Condiconais"
      ]
    },
    {
      "cell_type": "code",
      "execution_count": null,
      "metadata": {
        "colab": {
          "base_uri": "https://localhost:8080/"
        },
        "id": "Nh9nmD4k0oUW",
        "outputId": "bb1e2904-21fb-40ec-8213-6997337abc22"
      },
      "outputs": [
        {
          "name": "stdout",
          "output_type": "stream",
          "text": [
            "Qual o dia da semana? domingo\n",
            "Hoje é dia de descanso\n"
          ]
        }
      ],
      "source": [
        "# Exercício 1 - Crie uma estrutura que pergunte ao usuário qual o dia da semana. Se o dia for igual a Domingo ou \n",
        "# igual a sábado, imprima na tela \"Hoje é dia de descanso\", caso contrário imprima na tela \"Você precisa trabalhar!\"\n",
        "\n",
        "diaSemana = input(\"Qual o dia da semana? \").upper()\n",
        "if diaSemana == \"DOMINGO\" or diaSemana == \"SABADO\":\n",
        "  print(\"Hoje é dia de descanso\")\n",
        "else:\n",
        "  print(\"Voce precisa trabalhar\")\n",
        "  "
      ]
    },
    {
      "cell_type": "code",
      "execution_count": null,
      "metadata": {
        "colab": {
          "base_uri": "https://localhost:8080/"
        },
        "id": "NWWs0Qqo0oUY",
        "outputId": "275f02c0-e5c4-4a49-e295-552e86a59bd6"
      },
      "outputs": [
        {
          "name": "stdout",
          "output_type": "stream",
          "text": [
            "Morango faz parte da lista\n"
          ]
        }
      ],
      "source": [
        "# Exercício 2 - Crie uma lista de 5 frutas e verifique se a fruta 'Morango' faz parte da lista\n",
        "frutas = [\"banana\", \"maca\", \"morango\", \"kiwi\", \"uva\"]\n",
        "\n",
        "if \"morango\" in frutas:\n",
        "  print(\"Morango faz parte da lista\")\n",
        "  "
      ]
    },
    {
      "cell_type": "code",
      "execution_count": null,
      "metadata": {
        "colab": {
          "base_uri": "https://localhost:8080/"
        },
        "id": "pEa9iGp80oUY",
        "outputId": "193b1926-437c-42a8-a36f-526d6763892d"
      },
      "outputs": [
        {
          "name": "stdout",
          "output_type": "stream",
          "text": [
            "[4, 6, 8, 10]\n"
          ]
        }
      ],
      "source": [
        "# Exercício 3 - Crie uma tupla de 4 elementos, multiplique cada elemento da tupla por 2 e guarde os resultados em uma \n",
        "# lista\n",
        "tupla = (2, 3, 4, 5)\n",
        "list = []\n",
        "\n",
        "for i in tupla:\n",
        "  list.append(i * 2)\n",
        "\n",
        "print(list)\n"
      ]
    },
    {
      "cell_type": "code",
      "execution_count": 1,
      "metadata": {
        "colab": {
          "base_uri": "https://localhost:8080/"
        },
        "id": "sAeftjV20oUZ",
        "outputId": "e62831be-d550-4229-d92e-c33711d558a0"
      },
      "outputs": [
        {
          "name": "stdout",
          "output_type": "stream",
          "text": [
            "100\n",
            "102\n",
            "104\n",
            "106\n",
            "108\n",
            "110\n",
            "112\n",
            "114\n",
            "116\n",
            "118\n",
            "120\n",
            "122\n",
            "124\n",
            "126\n",
            "128\n",
            "130\n",
            "132\n",
            "134\n",
            "136\n",
            "138\n",
            "140\n",
            "142\n",
            "144\n",
            "146\n",
            "148\n",
            "150\n"
          ]
        }
      ],
      "source": [
        "# Exercício 4 - Crie uma sequência de números pares entre 100 e 150 e imprima na tela\n",
        "for i in range(100, 151):\n",
        "  if i % 2 == 0:\n",
        "    print(i)\n"
      ]
    },
    {
      "cell_type": "code",
      "execution_count": null,
      "metadata": {
        "colab": {
          "base_uri": "https://localhost:8080/"
        },
        "id": "PZYX1Dvf0oUZ",
        "outputId": "3f7cd355-acdc-4892-84cf-69da7d891511"
      },
      "outputs": [
        {
          "name": "stdout",
          "output_type": "stream",
          "text": [
            "40\n",
            "39\n",
            "38\n",
            "37\n",
            "36\n"
          ]
        }
      ],
      "source": [
        "# Exercício 5 - Crie uma variável chamada temperatura e atribua o valor 40. Enquanto temperatura for maior que 35, \n",
        "# imprima as temperaturas na tela\n",
        "\n",
        "temperatura = 40\n",
        "\n",
        "while temperatura > 35:\n",
        "  print(temperatura)\n",
        "  temperatura -= 1\n",
        "  "
      ]
    },
    {
      "cell_type": "code",
      "execution_count": null,
      "metadata": {
        "colab": {
          "base_uri": "https://localhost:8080/"
        },
        "id": "fEj9w5oM0oUa",
        "outputId": "629e8fd7-c184-44b8-a2b0-fabf131bc4d3"
      },
      "outputs": [
        {
          "name": "stdout",
          "output_type": "stream",
          "text": [
            "0\n",
            "1\n",
            "2\n",
            "3\n",
            "4\n",
            "5\n",
            "6\n",
            "7\n",
            "8\n",
            "9\n",
            "10\n",
            "11\n",
            "12\n",
            "13\n",
            "14\n",
            "15\n",
            "16\n",
            "17\n",
            "18\n",
            "19\n",
            "20\n",
            "21\n",
            "22\n",
            "23\n"
          ]
        }
      ],
      "source": [
        "# Exercício 6 - Crie uma variável chamada contador = 0. Enquanto counter for menor que 100, imprima os valores na tela,\n",
        "# mas quando for encontrado o valor 23, interrompa a execução do programa\n",
        "contador = 0\n",
        "\n",
        "while contador < 100:\n",
        "  print(contador)\n",
        "  if contador == 23:\n",
        "    break\n",
        "  contador += 1\n",
        "  "
      ]
    },
    {
      "cell_type": "code",
      "execution_count": null,
      "metadata": {
        "colab": {
          "base_uri": "https://localhost:8080/"
        },
        "id": "MMbu0DQ-0oUb",
        "outputId": "b2ffd16e-0395-42e8-ecd3-6c04df6c7d88"
      },
      "outputs": [
        {
          "name": "stdout",
          "output_type": "stream",
          "text": [
            "[4, 6, 8, 10, 12, 14, 16, 18, 20]\n"
          ]
        }
      ],
      "source": [
        "# Exercício 7 - Crie uma lista vazia e uma variável com valor 4. Enquanto o valor da variável for menor ou igual a 20, \n",
        "# adicione à lista, apenas os valores pares e imprima a lista\n",
        "list = []\n",
        "num = 4\n",
        "\n",
        "while num <= 20:\n",
        "  if num % 2 == 0:\n",
        "    list.append(num)\n",
        "  num += 1\n",
        "print(list)\n"
      ]
    },
    {
      "cell_type": "code",
      "execution_count": null,
      "metadata": {
        "colab": {
          "base_uri": "https://localhost:8080/"
        },
        "id": "4nXjDkhV0oUb",
        "outputId": "df176c88-f7c3-4f27-dac1-79e248471dba"
      },
      "outputs": [
        {
          "name": "stdout",
          "output_type": "stream",
          "text": [
            "[5, 7, 9, 11, 13, 15, 17, 19, 21, 23, 25, 27, 29, 31, 33, 35, 37, 39, 41, 43]\n"
          ]
        }
      ],
      "source": [
        "# Exercício 8 - Transforme o resultado desta função range em uma lista: range(5, 45, 2)\n",
        "nums = []\n",
        "for i in range(5, 45, 2):\n",
        "  nums.append(i)\n",
        "print (nums)\n"
      ]
    },
    {
      "cell_type": "code",
      "execution_count": null,
      "metadata": {
        "colab": {
          "base_uri": "https://localhost:8080/"
        },
        "id": "-poRU_aK0oUc",
        "outputId": "c8195796-ed37-4140-c9a6-5f42c6226409"
      },
      "outputs": [
        {
          "name": "stdout",
          "output_type": "stream",
          "text": [
            "Qual a temperatura? 32\n",
            "Vista roupas leves.\n"
          ]
        }
      ],
      "source": [
        "# Exercício 9 - Faça a correção dos erros no código abaixo e execute o programa. Dica: são 3 erros.\n",
        "temperatura = float(input('Qual a temperatura? '))\n",
        "if temperatura > 30:\n",
        "  print('Vista roupas leves.')\n",
        "else:\n",
        "    print('Busque seus casacos.')\n",
        "    "
      ]
    },
    {
      "cell_type": "code",
      "execution_count": null,
      "metadata": {
        "colab": {
          "base_uri": "https://localhost:8080/"
        },
        "id": "O1eBayPl0oUd",
        "outputId": "ed707e17-9e46-4b39-b528-2a4efb9df6c0"
      },
      "outputs": [
        {
          "name": "stdout",
          "output_type": "stream",
          "text": [
            "o numero de letras r na frase é 6\n"
          ]
        }
      ],
      "source": [
        "# Exercício 10 - Faça um programa que conte quantas vezes a letra \"r\" aparece na frase abaixo. Use um placeholder na \n",
        "# sua instrução de impressão\n",
        "\n",
        "# “É melhor, muito melhor, contentar-se com a realidade; se ela não é tão brilhante como os sonhos, tem pelo menos a \n",
        "# vantagem de existir.” (Machado de Assis)\n",
        "\n",
        "frase = \"É melhor, muito melhor, contentar-se com a realidade; se ela não é tão brilhante como os sonhos, tem pelo menos a vantagem de existir.\" \n",
        "msg = \"o numero de letras r na frase é %s\"\n",
        "print(msg%frase.count(\"r\"))\n"
      ]
    },
    {
      "cell_type": "markdown",
      "metadata": {
        "id": "yZxEAGdF0oUd"
      },
      "source": [
        "## Exercícios -  Métodos e Funções"
      ]
    },
    {
      "cell_type": "code",
      "execution_count": null,
      "metadata": {
        "colab": {
          "base_uri": "https://localhost:8080/"
        },
        "id": "7nenu7Ec0oUe",
        "outputId": "e7a80900-c2e1-404b-a6b8-8a91b91b4135"
      },
      "outputs": [
        {
          "name": "stdout",
          "output_type": "stream",
          "text": [
            "2\n",
            "4\n",
            "6\n",
            "8\n",
            "10\n",
            "12\n",
            "14\n",
            "16\n",
            "18\n"
          ]
        }
      ],
      "source": [
        "# Exercício 11 - Crie uma função que imprima a sequência de números pares entre 1 e 20 (a função não recebe parâmetro) e \n",
        "# depois faça uma chamada à função para listar os números \n",
        "\n",
        "def imprimePares():\n",
        "  for i in range(1, 20):\n",
        "    if i % 2 == 0:\n",
        "      print(i)\n",
        "\n",
        "imprimePares()\n"
      ]
    },
    {
      "cell_type": "code",
      "execution_count": null,
      "metadata": {
        "colab": {
          "base_uri": "https://localhost:8080/"
        },
        "id": "AI1sPcrW0oUe",
        "outputId": "3d24c3a2-9f35-41be-f184-ea0e4c33ebbc"
      },
      "outputs": [
        {
          "name": "stdout",
          "output_type": "stream",
          "text": [
            "RAFA\n"
          ]
        }
      ],
      "source": [
        "# Exercício 12 - Crie uam função que receba uma string como argumento e retorne a mesma string em letras maiúsculas.\n",
        "# Faça uma chamada à função, passando como parâmetro uma string\n",
        "\n",
        "def upperCase(str):\n",
        "  return str.upper()\n",
        "\n",
        "print(upperCase(\"rafa\"))"
      ]
    },
    {
      "cell_type": "code",
      "execution_count": 7,
      "metadata": {
        "id": "XkYyTmD50oUe"
      },
      "outputs": [
        {
          "name": "stdout",
          "output_type": "stream",
          "text": [
            "160\n",
            "P\n",
            "Y\n",
            "B\n",
            "C\n"
          ]
        }
      ],
      "source": [
        "# Exercício 13 - Crie uma função que receba um argumento formal e uma possível lista de elementos. Faça duas chamadas \n",
        "# à função, com apenas 1 elemento e na segunda chamada com 4 elementos\n",
        "def listaArgumentos( arg, *lista ):\n",
        "    print (arg)\n",
        "    for i in lista:\n",
        "        print(i)\n",
        "    return\n",
        "\n",
        "listaArgumentos(160)\n",
        "listaArgumentos(\"P\", \"Y\", \"B\", \"C\")\n"
      ]
    },
    {
      "cell_type": "code",
      "execution_count": 3,
      "metadata": {
        "colab": {
          "base_uri": "https://localhost:8080/"
        },
        "id": "WxCU3bZi0oUf",
        "outputId": "a51f474b-0a5f-4109-a993-d9f4da9e8c8d"
      },
      "outputs": [
        {
          "data": {
            "text/plain": [
              "['BooleanDtype',\n",
              " 'Categorical',\n",
              " 'CategoricalDtype',\n",
              " 'CategoricalIndex',\n",
              " 'DataFrame',\n",
              " 'DateOffset',\n",
              " 'DatetimeIndex',\n",
              " 'DatetimeTZDtype',\n",
              " 'ExcelFile',\n",
              " 'ExcelWriter',\n",
              " 'Flags',\n",
              " 'Float32Dtype',\n",
              " 'Float64Dtype',\n",
              " 'Float64Index',\n",
              " 'Grouper',\n",
              " 'HDFStore',\n",
              " 'Index',\n",
              " 'IndexSlice',\n",
              " 'Int16Dtype',\n",
              " 'Int32Dtype',\n",
              " 'Int64Dtype',\n",
              " 'Int64Index',\n",
              " 'Int8Dtype',\n",
              " 'Interval',\n",
              " 'IntervalDtype',\n",
              " 'IntervalIndex',\n",
              " 'MultiIndex',\n",
              " 'NA',\n",
              " 'NaT',\n",
              " 'NamedAgg',\n",
              " 'Period',\n",
              " 'PeriodDtype',\n",
              " 'PeriodIndex',\n",
              " 'RangeIndex',\n",
              " 'Series',\n",
              " 'SparseDtype',\n",
              " 'StringDtype',\n",
              " 'Timedelta',\n",
              " 'TimedeltaIndex',\n",
              " 'Timestamp',\n",
              " 'UInt16Dtype',\n",
              " 'UInt32Dtype',\n",
              " 'UInt64Dtype',\n",
              " 'UInt64Index',\n",
              " 'UInt8Dtype',\n",
              " '__builtins__',\n",
              " '__cached__',\n",
              " '__doc__',\n",
              " '__docformat__',\n",
              " '__file__',\n",
              " '__getattr__',\n",
              " '__git_version__',\n",
              " '__loader__',\n",
              " '__name__',\n",
              " '__package__',\n",
              " '__path__',\n",
              " '__spec__',\n",
              " '__version__',\n",
              " '_config',\n",
              " '_hashtable',\n",
              " '_is_numpy_dev',\n",
              " '_lib',\n",
              " '_libs',\n",
              " '_np_version_under1p18',\n",
              " '_testing',\n",
              " '_tslib',\n",
              " '_typing',\n",
              " '_version',\n",
              " 'api',\n",
              " 'array',\n",
              " 'arrays',\n",
              " 'bdate_range',\n",
              " 'compat',\n",
              " 'concat',\n",
              " 'core',\n",
              " 'crosstab',\n",
              " 'cut',\n",
              " 'date_range',\n",
              " 'describe_option',\n",
              " 'errors',\n",
              " 'eval',\n",
              " 'factorize',\n",
              " 'get_dummies',\n",
              " 'get_option',\n",
              " 'infer_freq',\n",
              " 'interval_range',\n",
              " 'io',\n",
              " 'isna',\n",
              " 'isnull',\n",
              " 'json_normalize',\n",
              " 'lreshape',\n",
              " 'melt',\n",
              " 'merge',\n",
              " 'merge_asof',\n",
              " 'merge_ordered',\n",
              " 'notna',\n",
              " 'notnull',\n",
              " 'offsets',\n",
              " 'option_context',\n",
              " 'options',\n",
              " 'pandas',\n",
              " 'period_range',\n",
              " 'pivot',\n",
              " 'pivot_table',\n",
              " 'plotting',\n",
              " 'qcut',\n",
              " 'read_clipboard',\n",
              " 'read_csv',\n",
              " 'read_excel',\n",
              " 'read_feather',\n",
              " 'read_fwf',\n",
              " 'read_gbq',\n",
              " 'read_hdf',\n",
              " 'read_html',\n",
              " 'read_json',\n",
              " 'read_orc',\n",
              " 'read_parquet',\n",
              " 'read_pickle',\n",
              " 'read_sas',\n",
              " 'read_spss',\n",
              " 'read_sql',\n",
              " 'read_sql_query',\n",
              " 'read_sql_table',\n",
              " 'read_stata',\n",
              " 'read_table',\n",
              " 'read_xml',\n",
              " 'reset_option',\n",
              " 'set_eng_float_format',\n",
              " 'set_option',\n",
              " 'show_versions',\n",
              " 'test',\n",
              " 'testing',\n",
              " 'timedelta_range',\n",
              " 'to_datetime',\n",
              " 'to_numeric',\n",
              " 'to_pickle',\n",
              " 'to_timedelta',\n",
              " 'tseries',\n",
              " 'unique',\n",
              " 'util',\n",
              " 'value_counts',\n",
              " 'wide_to_long']"
            ]
          },
          "execution_count": 3,
          "metadata": {},
          "output_type": "execute_result"
        }
      ],
      "source": [
        "# Abaixo você encontra a importação do Pandas, um dos principais pacotes Python para análise de dados.\n",
        "# Analise atentamente todos os métodos disponíveis. Um deles você vai usar no próximo exercício.\n",
        "import pandas as pd\n",
        "dir(pd)"
      ]
    },
    {
      "cell_type": "code",
      "execution_count": 5,
      "metadata": {
        "colab": {
          "base_uri": "https://localhost:8080/",
          "height": 346
        },
        "id": "rr5u6osu0oUf",
        "outputId": "16754d16-9997-4368-c7d9-0a12bd4f1926"
      },
      "outputs": [
        {
          "data": {
            "text/html": [
              "<div>\n",
              "<style scoped>\n",
              "    .dataframe tbody tr th:only-of-type {\n",
              "        vertical-align: middle;\n",
              "    }\n",
              "\n",
              "    .dataframe tbody tr th {\n",
              "        vertical-align: top;\n",
              "    }\n",
              "\n",
              "    .dataframe thead th {\n",
              "        text-align: right;\n",
              "    }\n",
              "</style>\n",
              "<table border=\"1\" class=\"dataframe\">\n",
              "  <thead>\n",
              "    <tr style=\"text-align: right;\">\n",
              "      <th></th>\n",
              "      <th>admit</th>\n",
              "      <th>gre</th>\n",
              "      <th>gpa</th>\n",
              "      <th>rank</th>\n",
              "    </tr>\n",
              "  </thead>\n",
              "  <tbody>\n",
              "    <tr>\n",
              "      <th>count</th>\n",
              "      <td>5.000000</td>\n",
              "      <td>5.000000</td>\n",
              "      <td>5.000000</td>\n",
              "      <td>5.000000</td>\n",
              "    </tr>\n",
              "    <tr>\n",
              "      <th>mean</th>\n",
              "      <td>0.600000</td>\n",
              "      <td>616.000000</td>\n",
              "      <td>3.480000</td>\n",
              "      <td>3.000000</td>\n",
              "    </tr>\n",
              "    <tr>\n",
              "      <th>std</th>\n",
              "      <td>0.547723</td>\n",
              "      <td>185.148589</td>\n",
              "      <td>0.421307</td>\n",
              "      <td>1.224745</td>\n",
              "    </tr>\n",
              "    <tr>\n",
              "      <th>min</th>\n",
              "      <td>0.000000</td>\n",
              "      <td>380.000000</td>\n",
              "      <td>2.930000</td>\n",
              "      <td>1.000000</td>\n",
              "    </tr>\n",
              "    <tr>\n",
              "      <th>25%</th>\n",
              "      <td>0.000000</td>\n",
              "      <td>520.000000</td>\n",
              "      <td>3.190000</td>\n",
              "      <td>3.000000</td>\n",
              "    </tr>\n",
              "    <tr>\n",
              "      <th>50%</th>\n",
              "      <td>1.000000</td>\n",
              "      <td>640.000000</td>\n",
              "      <td>3.610000</td>\n",
              "      <td>3.000000</td>\n",
              "    </tr>\n",
              "    <tr>\n",
              "      <th>75%</th>\n",
              "      <td>1.000000</td>\n",
              "      <td>660.000000</td>\n",
              "      <td>3.670000</td>\n",
              "      <td>4.000000</td>\n",
              "    </tr>\n",
              "    <tr>\n",
              "      <th>max</th>\n",
              "      <td>1.000000</td>\n",
              "      <td>880.000000</td>\n",
              "      <td>4.000000</td>\n",
              "      <td>4.000000</td>\n",
              "    </tr>\n",
              "  </tbody>\n",
              "</table>\n",
              "</div>"
            ],
            "text/plain": [
              "          admit         gre       gpa      rank\n",
              "count  5.000000    5.000000  5.000000  5.000000\n",
              "mean   0.600000  616.000000  3.480000  3.000000\n",
              "std    0.547723  185.148589  0.421307  1.224745\n",
              "min    0.000000  380.000000  2.930000  1.000000\n",
              "25%    0.000000  520.000000  3.190000  3.000000\n",
              "50%    1.000000  640.000000  3.610000  3.000000\n",
              "75%    1.000000  660.000000  3.670000  4.000000\n",
              "max    1.000000  880.000000  4.000000  4.000000"
            ]
          },
          "execution_count": 5,
          "metadata": {},
          "output_type": "execute_result"
        }
      ],
      "source": [
        "# Exercício 14\n",
        "# ************* Desafio ************* (pesquise na documentação Python)\n",
        "\n",
        "# Exercício 10 - Crie uma função que receba o arquivo abaixo como argumento e retorne um resumo estatístico descritivo \n",
        "# do arquivo. Dica, use Pandas e um de seus métodos, describe()\n",
        "# Arquivo: \"binary.csv\"\n",
        "import pandas as pd\n",
        "file_name = \"binary.csv\"\n",
        "\n",
        "def relatorio(file):\n",
        "  data = pd.read_csv(file)\n",
        "  return data.describe()\n",
        "\n",
        "relatorio(file_name)"
      ]
    },
    {
      "cell_type": "markdown",
      "metadata": {
        "id": "zIjsOMx-0oUf"
      },
      "source": [
        "# Fim"
      ]
    }
  ],
  "metadata": {
    "colab": {
      "name": "Cópia de Aula02-Exercicios-Loops-Condiconais-Funcoes.ipynb",
      "provenance": []
    },
    "kernelspec": {
      "display_name": "Python 3",
      "language": "python",
      "name": "python3"
    },
    "language_info": {
      "codemirror_mode": {
        "name": "ipython",
        "version": 3
      },
      "file_extension": ".py",
      "mimetype": "text/x-python",
      "name": "python",
      "nbconvert_exporter": "python",
      "pygments_lexer": "ipython3",
      "version": "3.9.6"
    }
  },
  "nbformat": 4,
  "nbformat_minor": 0
}
